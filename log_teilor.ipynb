{
 "cells": [
  {
   "cell_type": "code",
   "execution_count": null,
   "metadata": {},
   "outputs": [],
   "source": [
    "import math\n",
    "import cmath\n",
    "import numpy as np\n",
    "import matplotlib.pyplot as plt # Типичные библиотеки, as - просто замена обозначение и введение равносильного\n",
    "cycle = 100 # Тут 1000, долго, но точно\n",
    "def uti_puti_moi_logarifmic(x):\n",
    "    \"\"\"Вычисление логарифма при помощи частичного суммирования ряда Те́йлора\"\"\"\n",
    "    x_pow = x # Значение части с x в степени\n",
    "    multiplier = 1 # Множитель, т.е. остальная часть (без x в степени)\n",
    "    partial_sum = x # Непосредственный результат неполной суммы\n",
    "    for n in range(1, cycle):\n",
    "        x_pow *= x  # Присвоение x_pow(er) значения = (пред)*на само себя 1 раз\n",
    "        multiplier *= -1/(n + 1)*n  # Часть без икса, т.е. (-1)^n и (n+1)\n",
    "        partial_sum += x_pow * multiplier # Присвоение partial_sum значения = (пред)+x_pow * multiplier\n",
    "    \n",
    "    return partial_sum # Питон, верни partial_sum, пожалуйста\n",
    "vs = np.vectorize(uti_puti_moi_logarifmic) # А ещё преобразуй в вектора uti_puti_moi_logarifmic и запиши это в переменную vs\n",
    "print(uti_puti_moi_logarifmic, vs) # Выдача результатов \n",
    "value = np.r_[-1:1:0.0001] # Данный метод работает только когда модуль значения меньше 1\n",
    "plt.plot(value, np.log(value+1)) # Постройка графика, где по Х - value, а по Y - np.log(value+1)\n",
    "plt.plot(value, vs(value)) # Постройка графика, где по Х - value, vs(value) \n",
    "plt.show() # Покажи, что получилось\n",
    "\"Часть с отрицательным логарифмом, все же знают самое красивое уравнение математики\"\n",
    "complex_value = -1\n",
    "print('Значение аргумента, когда ему плохо и он отрицательны:', complex_value)\n",
    "print(\"Достигает ли -1 наш логарифмик?\", uti_puti_moi_logarifmic(complex_value)) # Нет, и не сможет никогда, ибо ограничение Те́йлора для логарифма: [-1,1]\n",
    "print(\"А логарифм нормального человека?\", cmath.log(complex_value)) # А вот этот смог\n"
   ]
  }
 ],
 "metadata": {
  "kernelspec": {
   "display_name": "Python 3",
   "language": "python",
   "name": "python3"
  },
  "language_info": {
   "codemirror_mode": {
    "name": "ipython",
    "version": 3
   },
   "file_extension": ".py",
   "mimetype": "text/x-python",
   "name": "python",
   "nbconvert_exporter": "python",
   "pygments_lexer": "ipython3",
   "version": "3.7.3"
  }
 },
 "nbformat": 4,
 "nbformat_minor": 2
}
