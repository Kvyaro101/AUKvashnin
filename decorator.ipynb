{
 "cells": [
  {
   "cell_type": "code",
   "execution_count": null,
   "metadata": {},
   "outputs": [],
   "source": [
    "def repeat(n):\n",
    "    \"\"\"Указание количества повторений\"\"\"\n",
    "    def fake_function(func):\n",
    "        \"\"\"Даём операцию (функцию, которая не доросла до метода, ибо нет класса)\"\"\"\n",
    "        def ff_2(*args, **kwargs):\n",
    "            \"\"\"Указание переменных и повторение функции\"\"\"\n",
    "            if n != 0:\n",
    "                result = func(*args, **kwargs)\n",
    "            else:\n",
    "                result = [*args] # Чтобы возвращался x, когда не повторяем операцию\n",
    "            for i in range (n-1):\n",
    "                result = func(result)\n",
    "            return result\n",
    "        return ff_2\n",
    "    return fake_function\n",
    "\n",
    "@repeat(2)\n",
    "def plus_1(x):\n",
    "    return x + 1\n",
    "\n",
    "@repeat(0)\n",
    "def mul_2(x):\n",
    "    return x * 2\n",
    "\n",
    "print(plus_1(3))  # должно выдать 5 – Yay\n",
    "print(mul_2(4))  # должно выдать 4 – Yay\n"
   ]
  }
 ],
 "metadata": {
  "kernelspec": {
   "display_name": "Python 3",
   "language": "python",
   "name": "python3"
  },
  "language_info": {
   "codemirror_mode": {
    "name": "ipython",
    "version": 3
   },
   "file_extension": ".py",
   "mimetype": "text/x-python",
   "name": "python",
   "nbconvert_exporter": "python",
   "pygments_lexer": "ipython3",
   "version": "3.8.6"
  }
 },
 "nbformat": 4,
 "nbformat_minor": 4
}
